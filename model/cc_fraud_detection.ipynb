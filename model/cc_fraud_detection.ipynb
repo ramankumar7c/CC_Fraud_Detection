{
 "cells": [
  {
   "cell_type": "code",
   "execution_count": 3,
   "id": "5be5acce-f70d-40f3-ace8-ad3fce81ddc4",
   "metadata": {},
   "outputs": [
    {
     "name": "stderr",
     "output_type": "stream",
     "text": [
      "C:\\Users\\KIIT\\AppData\\Local\\Temp\\ipykernel_19348\\2473590637.py:19: DeprecationWarning: DataFrameGroupBy.apply operated on the grouping columns. This behavior is deprecated, and in a future version of pandas the grouping columns will be excluded from the operation. Either pass `include_groups=False` to exclude the groupings or explicitly select the grouping columns after groupby to silence this warning.\n",
      "  df_sampled = df.groupby(\"fraud\", group_keys=False).apply(\n",
      "2025-04-10 13:12:00,032 - pyswarms.single.global_best - INFO - Optimize for 50 iters with {'c1': 2, 'c2': 2, 'w': 0.9}\n"
     ]
    },
    {
     "name": "stdout",
     "output_type": "stream",
     "text": [
      "\n",
      "🔄 Running PSO optimization...\n"
     ]
    },
    {
     "name": "stderr",
     "output_type": "stream",
     "text": [
      "pyswarms.single.global_best: 100%|██████████|50/50, best_cost=0.00109\n",
      "2025-04-10 16:04:51,191 - pyswarms.single.global_best - INFO - Optimization finished | best cost: 0.001089748283752856, best pos: [ 1.27301658  1.63613408  0.75511403 -0.87720702  4.95000903  2.81962125\n",
      "  1.6521314 ]\n"
     ]
    },
    {
     "name": "stdout",
     "output_type": "stream",
     "text": [
      "\n",
      "📊 Final Model Performance:\n",
      "Accuracy : 0.9999\n",
      "Precision: 1.0000\n",
      "Recall   : 0.9983\n",
      "F1 Score : 0.9991\n",
      "AUC-ROC  : 1.0000\n",
      "\n",
      "Classification Report:\n",
      "               precision    recall  f1-score   support\n",
      "\n",
      "         0.0       1.00      1.00      1.00     18252\n",
      "         1.0       1.00      1.00      1.00      1748\n",
      "\n",
      "    accuracy                           1.00     20000\n",
      "   macro avg       1.00      1.00      1.00     20000\n",
      "weighted avg       1.00      1.00      1.00     20000\n",
      "\n",
      "\n",
      "✅ Model saved to 'rf_pso_model.pkl'\n"
     ]
    }
   ],
   "source": [
    "import numpy as np\n",
    "import pandas as pd\n",
    "import time\n",
    "import joblib\n",
    "from sklearn.model_selection import train_test_split\n",
    "from sklearn.ensemble import RandomForestClassifier\n",
    "from sklearn.metrics import (\n",
    "    accuracy_score, precision_score, recall_score, f1_score,\n",
    "    roc_auc_score, classification_report\n",
    ")\n",
    "from joblib import Parallel, delayed\n",
    "import pyswarms as ps\n",
    "\n",
    "# Load data\n",
    "df = pd.read_csv(r\"C:\\Users\\KIIT\\Desktop\\Fraud_Detection\\model\\card_transdata.csv\")\n",
    "\n",
    "# Sampling\n",
    "sample_size = 100000\n",
    "df_sampled = df.groupby(\"fraud\", group_keys=False).apply(\n",
    "    lambda x: x.sample(int(sample_size * len(x) / len(df)), random_state=42)\n",
    ").reset_index(drop=True)\n",
    "\n",
    "# Train-test split\n",
    "X = df_sampled.drop(columns=[\"fraud\"])\n",
    "y = df_sampled[\"fraud\"]\n",
    "X_train, X_test, y_train, y_test = train_test_split(\n",
    "    X, y, test_size=0.2, stratify=y, random_state=42\n",
    ")\n",
    "\n",
    "# PSO fitness function\n",
    "def evaluate_particle(particle):\n",
    "    selected = np.where(particle > 0.75)[0]\n",
    "    if len(selected) == 0:\n",
    "        return 1e10\n",
    "    X_train_sel = X_train.iloc[:, selected]\n",
    "    X_test_sel = X_test.iloc[:, selected]\n",
    "    model = RandomForestClassifier(n_estimators=100, class_weight='balanced_subsample', random_state=42, n_jobs=1)\n",
    "    model.fit(X_train_sel, y_train)\n",
    "    preds = model.predict(X_test_sel)\n",
    "    fraud_recall = recall_score(y_test, preds, pos_label=1)\n",
    "    accuracy = accuracy_score(y_test, preds)\n",
    "    return 1 - (0.6 * fraud_recall + 0.4 * accuracy)\n",
    "\n",
    "def fitness_function(particles):\n",
    "    return np.array(Parallel(n_jobs=-1)(\n",
    "        delayed(evaluate_particle)(p) for p in particles\n",
    "    ))\n",
    "\n",
    "# Run PSO\n",
    "options = {'c1': 2, 'c2': 2, 'w': 0.9}\n",
    "dimensions = X.shape[1]\n",
    "optimizer = ps.single.GlobalBestPSO(n_particles=20, dimensions=dimensions, options=options)\n",
    "\n",
    "print(\"\\n🔄 Running PSO optimization...\")\n",
    "start_time = time.time()\n",
    "best_cost, best_pos = optimizer.optimize(fitness_function, iters=50)\n",
    "pso_time = time.time() - start_time\n",
    "\n",
    "selected = np.where(best_pos > 0.75)[0]\n",
    "selected_feature_names = X.columns[selected]\n",
    "print(\"\\n🧠 Selected Feature Indices:\", selected)\n",
    "print(\"📝 Selected Feature Names:\", list(selected_feature_names))\n",
    "X_train_sel = X_train.iloc[:, selected]\n",
    "X_test_sel = X_test.iloc[:, selected]\n",
    "\n",
    "# Train final model\n",
    "model = RandomForestClassifier(n_estimators=100, class_weight='balanced_subsample', random_state=42, n_jobs=-1)\n",
    "model.fit(X_train_sel, y_train)\n",
    "\n",
    "# Evaluate\n",
    "y_pred = model.predict(X_test_sel)\n",
    "y_proba = model.predict_proba(X_test_sel)[:, 1]\n",
    "\n",
    "print(\"\\n📊 Final Model Performance:\")\n",
    "print(f\"Accuracy : {accuracy_score(y_test, y_pred):.4f}\")\n",
    "print(f\"Precision: {precision_score(y_test, y_pred):.4f}\")\n",
    "print(f\"Recall   : {recall_score(y_test, y_pred):.4f}\")\n",
    "print(f\"F1 Score : {f1_score(y_test, y_pred):.4f}\")\n",
    "print(f\"AUC-ROC  : {roc_auc_score(y_test, y_proba):.4f}\")\n",
    "print(\"\\nClassification Report:\\n\", classification_report(y_test, y_pred, zero_division=0))\n",
    "\n",
    "# Save model and selected features\n",
    "joblib.dump({\n",
    "    \"model\": model,\n",
    "    \"selected_indices\": selected,\n",
    "    \"selected_feature_names\": list(X.columns[selected])\n",
    "}, \"rf_pso_model.pkl\")\n",
    "print(\"\\n✅ Model saved to 'rf_pso_model.pkl'\")"
   ]
  }
 ],
 "metadata": {
  "kernelspec": {
   "display_name": "Python 3 (ipykernel)",
   "language": "python",
   "name": "python3"
  },
  "language_info": {
   "codemirror_mode": {
    "name": "ipython",
    "version": 3
   },
   "file_extension": ".py",
   "mimetype": "text/x-python",
   "name": "python",
   "nbconvert_exporter": "python",
   "pygments_lexer": "ipython3",
   "version": "3.12.7"
  }
 },
 "nbformat": 4,
 "nbformat_minor": 5
}
